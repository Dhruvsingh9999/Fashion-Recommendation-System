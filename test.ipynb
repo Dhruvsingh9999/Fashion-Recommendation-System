{
 "cells": [
  {
   "cell_type": "code",
   "execution_count": 3,
   "metadata": {},
   "outputs": [
    {
     "name": "stdout",
     "output_type": "stream",
     "text": [
      "\u001b[1m1/1\u001b[0m \u001b[32m━━━━━━━━━━━━━━━━━━━━\u001b[0m\u001b[37m\u001b[0m \u001b[1m1s\u001b[0m 1s/step\n",
      "[[ 342 1257 1433 1274 2044]]\n"
     ]
    }
   ],
   "source": [
    "import pickle\n",
    "import tensorflow as tf\n",
    "from tensorflow.keras.layers import GlobalMaxPooling2D  \n",
    "import numpy as np\n",
    "from tensorflow.keras.preprocessing import image\n",
    "from tensorflow.keras.preprocessing.image import load_img, img_to_array\n",
    "from tensorflow.keras.applications.resnet50 import ResNet50, preprocess_input\n",
    "from numpy.linalg import norm\n",
    "from sklearn.neighbors import NearestNeighbors\n",
    "import cv2\n",
    "\n",
    "feature_list = pickle.load(open('embeddings.pkl', 'rb'))\n",
    "filenames = pickle.load(open('filenames.pkl', 'rb'))\n",
    "\n",
    "base_model = ResNet50(include_top=False, weights='imagenet', input_shape=(224, 224, 3))\n",
    "base_model.trainable = False\n",
    "model = tf.keras.Sequential([\n",
    "    base_model,\n",
    "    GlobalMaxPooling2D()\n",
    "])\n",
    "\n",
    "img = load_img('D:\\Programming\\Project\\Fashion Recommendation System\\sample\\shoes.jpg', target_size=(224, 224))\n",
    "img_array = img_to_array(img)\n",
    "expanded_img_array = np.expand_dims(img_array, axis=0)\n",
    "preprocess_img = preprocess_input(expanded_img_array)\n",
    "result = model.predict(preprocess_img).flatten()\n",
    "normalized_result = result / norm(result)\n",
    "\n",
    "\n",
    "neighbors = NearestNeighbors(n_neighbors=5, algorithm='brute', metric='euclidean')\n",
    "neighbors.fit(feature_list)\n",
    "\n",
    "distances,indices = neighbors.kneighbors([normalized_result])\n",
    "\n",
    "print(indices)\n",
    "\n",
    "for file in indices[0]:\n",
    "    temp_img = cv2.imread(filenames[file])  \n",
    "    cv2.imshow('output',cv2.resize(temp_img, (1080,1080)))\n",
    "    cv2.waitKey(0)\n"
   ]
  },
  {
   "cell_type": "code",
   "execution_count": null,
   "metadata": {},
   "outputs": [],
   "source": []
  }
 ],
 "metadata": {
  "kernelspec": {
   "display_name": "my_env",
   "language": "python",
   "name": "python3"
  },
  "language_info": {
   "codemirror_mode": {
    "name": "ipython",
    "version": 3
   },
   "file_extension": ".py",
   "mimetype": "text/x-python",
   "name": "python",
   "nbconvert_exporter": "python",
   "pygments_lexer": "ipython3",
   "version": "3.10.11"
  }
 },
 "nbformat": 4,
 "nbformat_minor": 2
}
